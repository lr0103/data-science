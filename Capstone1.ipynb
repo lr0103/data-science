{
  "nbformat": 4,
  "nbformat_minor": 0,
  "metadata": {
    "colab": {
      "name": "Capstone1.ipynb",
      "provenance": [],
      "authorship_tag": "ABX9TyPOjWxZHpUT2MS6Twnz3wlu",
      "include_colab_link": true
    },
    "kernelspec": {
      "name": "python3",
      "display_name": "Python 3"
    }
  },
  "cells": [
    {
      "cell_type": "markdown",
      "metadata": {
        "id": "view-in-github",
        "colab_type": "text"
      },
      "source": [
        "<a href=\"https://colab.research.google.com/github/lr0103/data-science/blob/master/Capstone1.ipynb\" target=\"_parent\"><img src=\"https://colab.research.google.com/assets/colab-badge.svg\" alt=\"Open In Colab\"/></a>"
      ]
    },
    {
      "cell_type": "markdown",
      "metadata": {
        "id": "TZQies3FEztz",
        "colab_type": "text"
      },
      "source": [
        "#__Cousera Capstone Project__"
      ]
    },
    {
      "cell_type": "markdown",
      "metadata": {
        "id": "onXz-o2OFHZq",
        "colab_type": "text"
      },
      "source": [
        "This notebook will be used to develop the first Captore project for the __\"Applied Data Science Capstone\"__ module"
      ]
    },
    {
      "cell_type": "code",
      "metadata": {
        "id": "lskgJ3doEnQN",
        "colab_type": "code",
        "colab": {}
      },
      "source": [
        "#imports\n",
        "import pandas as pd\n",
        "import numpy as np"
      ],
      "execution_count": 7,
      "outputs": []
    },
    {
      "cell_type": "code",
      "metadata": {
        "id": "i9G4qiE1Fzdd",
        "colab_type": "code",
        "colab": {
          "base_uri": "https://localhost:8080/",
          "height": 34
        },
        "outputId": "776dd707-0ded-4f03-89a4-f3a8d180766c"
      },
      "source": [
        "print(\"Hello Capstone Project Course!\")"
      ],
      "execution_count": 8,
      "outputs": [
        {
          "output_type": "stream",
          "text": [
            "Hello Capstone Project Course!\n"
          ],
          "name": "stdout"
        }
      ]
    },
    {
      "cell_type": "code",
      "metadata": {
        "id": "qd2x5noPF2UG",
        "colab_type": "code",
        "colab": {}
      },
      "source": [
        ""
      ],
      "execution_count": null,
      "outputs": []
    }
  ]
}